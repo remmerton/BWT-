{
 "cells": [
  {
   "cell_type": "markdown",
   "source": [
    "# BWT code"
   ],
   "metadata": {
    "collapsed": false,
    "pycharm": {
     "name": "#%% md\n"
    }
   }
  },
  {
   "cell_type": "markdown",
   "source": [
    "### Function to compute the Burrows-Wheeler Transform (BWT) of a given string"
   ],
   "metadata": {
    "collapsed": false,
    "pycharm": {
     "name": "#%% md\n"
    }
   }
  },
  {
   "cell_type": "code",
   "execution_count": 97,
   "outputs": [],
   "source": [
    "# Function to compute the Burrows-Wheeler Transform (BWT) of a given string\n",
    "def bwt(s):\n",
    "    s = s + '$'\n",
    "\n",
    "    # Compute all rotations of the string\n",
    "    rotations = []\n",
    "    for i in range(len(s)):\n",
    "        rotation = s[i:] + s[:i]\n",
    "        rotations.append(rotation)\n",
    "\n",
    "    # Sort the rotations\n",
    "    sorted_rotations = sorted(rotations)\n",
    "\n",
    "    # Create the BWT by taking the last character of each sorted rotation\n",
    "    bwt_result = ''.join(rotation[-1] for rotation in sorted_rotations)\n",
    "\n",
    "    return bwt_result"
   ],
   "metadata": {
    "collapsed": false,
    "pycharm": {
     "name": "#%%\n"
    }
   }
  },
  {
   "cell_type": "markdown",
   "source": [
    "### Function to reverse the Burrows-Wheeler Transform (BWT) of a given string"
   ],
   "metadata": {
    "collapsed": false,
    "pycharm": {
     "name": "#%% md\n"
    }
   }
  },
  {
   "cell_type": "code",
   "execution_count": 98,
   "outputs": [],
   "source": [
    "# Function to reverse the Burrows-Wheeler Transform (BWT) of a given string\n",
    "def ibwt(bwt_result):\n",
    "    # Initialize the table with empty strings\n",
    "    table = [\"\"] * len(bwt_result)\n",
    "\n",
    "    # Perform the required number of iterations\n",
    "    for _ in range(len(bwt_result)):\n",
    "        # Insert the BWT string as the first column and sort the table\n",
    "        table = sorted([bwt_char + row for bwt_char, row in zip(bwt_result, table)])\n",
    "\n",
    "    # Find the row that ends with '$' and return the original string without '$'\n",
    "    for row in table:\n",
    "        if row.endswith('$'):\n",
    "            return row[:-1]"
   ],
   "metadata": {
    "collapsed": false,
    "pycharm": {
     "name": "#%%\n"
    }
   }
  },
  {
   "cell_type": "markdown",
   "source": [
    "### Function to find overlapping string"
   ],
   "metadata": {
    "collapsed": false,
    "pycharm": {
     "name": "#%% md\n"
    }
   }
  },
  {
   "cell_type": "code",
   "execution_count": 99,
   "outputs": [],
   "source": [
    "# Function to extract overlapping subsequences\n",
    "def overlapping_subsequences(sequence, length, overlap):\n",
    "\n",
    "    subsequences = []\n",
    "\n",
    "    step = length - overlap # used to find the distance between the starting positions of consecutive subsequences extracted from the input sequence\n",
    "\n",
    "    for i in range(0, len(sequence) - length + 1, step):\n",
    "        subsequences.append(sequence[i:i + length])\n",
    "    return subsequences"
   ],
   "metadata": {
    "collapsed": false,
    "pycharm": {
     "name": "#%%\n"
    }
   }
  },
  {
   "cell_type": "markdown",
   "source": [
    "# RLE functions"
   ],
   "metadata": {
    "collapsed": false,
    "pycharm": {
     "name": "#%% md\n"
    }
   }
  },
  {
   "cell_type": "code",
   "execution_count": 100,
   "outputs": [],
   "source": [
    "def encode_rle(s):\n",
    "    encoded_string = []\n",
    "    count = 1\n",
    "\n",
    "    for i in range(1, len(s)):\n",
    "        if s[i] == s[i-1]:\n",
    "            count += 1\n",
    "        else:\n",
    "            encoded_string.append(s[i - 1] + str(count))\n",
    "            count = 1\n",
    "\n",
    "    encoded_string.append(s[-1] + str(count))\n",
    "    return \"\".join(encoded_string)"
   ],
   "metadata": {
    "collapsed": false,
    "pycharm": {
     "name": "#%%\n"
    }
   }
  },
  {
   "cell_type": "code",
   "execution_count": 101,
   "outputs": [],
   "source": [
    "def decode_rle(encoded_string):\n",
    "    decoded_string = []\n",
    "    current_char = \"\"\n",
    "    current_count = \"\"\n",
    "\n",
    "    for char in encoded_string:\n",
    "        if char.isalpha() or char == \"$\":\n",
    "            if current_char and current_count:\n",
    "                decoded_string.append(current_char * int(current_count))\n",
    "            current_char = char\n",
    "            current_count = \"\"\n",
    "        else:\n",
    "            current_count += char\n",
    "\n",
    "    if current_char and current_count:\n",
    "        decoded_string.append(current_char * int(current_count))\n",
    "\n",
    "    # return \"\".join(decoded_string)\n",
    "    return decoded_string"
   ],
   "metadata": {
    "collapsed": false,
    "pycharm": {
     "name": "#%%\n"
    }
   }
  },
  {
   "cell_type": "markdown",
   "source": [
    "# Data generation code"
   ],
   "metadata": {
    "collapsed": false,
    "pycharm": {
     "name": "#%% md\n"
    }
   }
  },
  {
   "cell_type": "markdown",
   "source": [
    "### Function to generate fibonacci word"
   ],
   "metadata": {
    "collapsed": false,
    "pycharm": {
     "name": "#%% md\n"
    }
   }
  },
  {
   "cell_type": "code",
   "execution_count": 102,
   "outputs": [],
   "source": [
    "\n",
    "def generate_fibonacci_word(order, alphabet):\n",
    "    if order < 0:\n",
    "        raise ValueError(\"Order must be a non-negative integer\")\n",
    "    if len(alphabet) != 2:\n",
    "        raise ValueError(\"Alphabet must contain exactly two characters\")\n",
    "\n",
    "    fib_words = [alphabet[0], alphabet[1]]\n",
    "\n",
    "    for i in range(2, order + 1):\n",
    "        fib_words.append(fib_words[-1] + fib_words[-2])\n",
    "\n",
    "    return fib_words[order]"
   ],
   "metadata": {
    "collapsed": false,
    "pycharm": {
     "name": "#%%\n"
    }
   }
  },
  {
   "cell_type": "markdown",
   "source": [
    "# BWT testing functions"
   ],
   "metadata": {
    "collapsed": false,
    "pycharm": {
     "name": "#%% md\n"
    }
   }
  },
  {
   "cell_type": "markdown",
   "source": [
    "### Testing BWT functions"
   ],
   "metadata": {
    "collapsed": false,
    "pycharm": {
     "name": "#%% md\n"
    }
   }
  },
  {
   "cell_type": "code",
   "execution_count": 103,
   "outputs": [
    {
     "name": "stdout",
     "output_type": "stream",
     "text": [
      "abaababa\n",
      "BWT result: abbb$aaaa\n",
      "Recovered original string: abaababa\n"
     ]
    }
   ],
   "source": [
    "print (\"abaababa\")\n",
    "\n",
    "bwt_result = bwt(\"abaababa\")\n",
    "print(\"BWT result:\", bwt_result)\n",
    "\n",
    "original_string = ibwt(bwt_result)\n",
    "print(\"Recovered original string:\", original_string)"
   ],
   "metadata": {
    "collapsed": false,
    "pycharm": {
     "name": "#%%\n"
    }
   }
  },
  {
   "cell_type": "markdown",
   "source": [
    "# Tests for overlapping strings"
   ],
   "metadata": {
    "collapsed": false,
    "pycharm": {
     "name": "#%% md\n"
    }
   }
  },
  {
   "cell_type": "markdown",
   "source": [
    "m is the length of each sample\n",
    "d refers to the overalp\n",
    "T is the new string that in generated"
   ],
   "metadata": {
    "collapsed": false,
    "pycharm": {
     "name": "#%% md\n"
    }
   }
  },
  {
   "cell_type": "markdown",
   "source": [
    "### Test for Golnaz example"
   ],
   "metadata": {
    "collapsed": false,
    "pycharm": {
     "name": "#%% md\n"
    }
   }
  },
  {
   "cell_type": "code",
   "execution_count": 104,
   "outputs": [
    {
     "name": "stdout",
     "output_type": "stream",
     "text": [
      "Original sequence: abbbababbbabbabb\n",
      "Overlapping subsequences (length=4, overlap=1): ['abbb', 'baba', 'abbb', 'babb', 'babb']\n",
      "abbbbabaabbbbabbbabb\n"
     ]
    }
   ],
   "source": [
    "sequence = \"abbbababbbabbabb\"\n",
    "length = 4\n",
    "overlap = 1\n",
    "subsequences = overlapping_subsequences(sequence, length, overlap)\n",
    "\n",
    "print(f\"Original sequence: {sequence}\")\n",
    "print(f\"Overlapping subsequences (length={length}, overlap={overlap}): {subsequences}\")\n",
    "\n",
    "print (''.join(subsequences))"
   ],
   "metadata": {
    "collapsed": false,
    "pycharm": {
     "name": "#%%\n"
    }
   }
  },
  {
   "cell_type": "markdown",
   "source": [
    "# Tests for data generation"
   ],
   "metadata": {
    "collapsed": false,
    "pycharm": {
     "name": "#%% md\n"
    }
   }
  },
  {
   "cell_type": "markdown",
   "source": [
    "### Generates a Fibonacci word of order"
   ],
   "metadata": {
    "collapsed": false,
    "pycharm": {
     "name": "#%% md\n"
    }
   }
  },
  {
   "cell_type": "code",
   "execution_count": 105,
   "outputs": [
    {
     "name": "stdout",
     "output_type": "stream",
     "text": [
      "Fibonacci word of order 10:\n",
      "BABBABABBABBABABBABABBABBABABBABBABABBABABBABBABABBABABBABBABABBABBABABBABABBABBABABBABBA\n"
     ]
    }
   ],
   "source": [
    "# Generate Fibonacci word of order 22 using a custom alphabet\n",
    "# order = 22\n",
    "order = 10\n",
    "alphabet = \"AB\"  # Replace \"AB\" with any two distinct characters\n",
    "fib_word = generate_fibonacci_word(order, alphabet)\n",
    "\n",
    "print(f\"Fibonacci word of order {order}:\\n{fib_word}\")"
   ],
   "metadata": {
    "collapsed": false,
    "pycharm": {
     "name": "#%%\n"
    }
   }
  },
  {
   "cell_type": "markdown",
   "source": [
    "# Test to give to Golnaz"
   ],
   "metadata": {
    "collapsed": false,
    "pycharm": {
     "name": "#%% md\n"
    }
   }
  },
  {
   "cell_type": "markdown",
   "source": [
    "Next steps :\n",
    "\n",
    "RUN BWT on orginal string\n",
    "RUN BWT of new string\n",
    "Find way to display the results"
   ],
   "metadata": {
    "collapsed": false,
    "pycharm": {
     "name": "#%% md\n"
    }
   }
  },
  {
   "cell_type": "markdown",
   "source": [
    "### run_length_encoding tests"
   ],
   "metadata": {
    "collapsed": false,
    "pycharm": {
     "name": "#%% md\n"
    }
   }
  },
  {
   "cell_type": "code",
   "execution_count": 106,
   "outputs": [
    {
     "name": "stdout",
     "output_type": "stream",
     "text": [
      "RLE on orginal string\n",
      "fib_word :  BABBABABBABBABABBABABBABBABABBABBABABBABABBABBABABBABABBABBABABBABBABABBABABBABBABABBABBA\n",
      "RLE of fibonacci_word :  B1A1B2A1B1A1B2A1B2A1B1A1B2A1B1A1B2A1B2A1B1A1B2A1B2A1B1A1B2A1B1A1B2A1B2A1B1A1B2A1B1A1B2A1B2A1B1A1B2A1B2A1B1A1B2A1B1A1B2A1B2A1B1A1B2A1B2A1\n",
      "decode of RLE of fibonacci_word :  ['B', 'A', 'BB', 'A', 'B', 'A', 'BB', 'A', 'BB', 'A', 'B', 'A', 'BB', 'A', 'B', 'A', 'BB', 'A', 'BB', 'A', 'B', 'A', 'BB', 'A', 'BB', 'A', 'B', 'A', 'BB', 'A', 'B', 'A', 'BB', 'A', 'BB', 'A', 'B', 'A', 'BB', 'A', 'B', 'A', 'BB', 'A', 'BB', 'A', 'B', 'A', 'BB', 'A', 'BB', 'A', 'B', 'A', 'BB', 'A', 'B', 'A', 'BB', 'A', 'BB', 'A', 'B', 'A', 'BB', 'A', 'BB', 'A']\n",
      "\n",
      "RLE on BWT string\n",
      "fib_word :  BABBABABBABBABABBABABBABBABABBABBABABBABABBABBABABBABABBABBABABBABBABABBABABBABBABABBABBA\n",
      "bwt fib_word ABBBBBBBBBBBBBBBBBBBBBBBBBBBBBBBBBBBBBBBBBBBBBBBBBBBBBBB$AAAAAAAAAAAAAAAAAAAAAAAAAAAAAAAAA\n",
      "RLE of BWT fibonacci_word A1B55$1A33\n",
      "decode of RLE of BWT fibonacci_word ['A', 'BBBBBBBBBBBBBBBBBBBBBBBBBBBBBBBBBBBBBBBBBBBBBBBBBBBBBBB', '$', 'AAAAAAAAAAAAAAAAAAAAAAAAAAAAAAAAA']\n",
      "decode of BWT of fibonacci_word AAAAAAAAAAAAAAAAAAAAAAAAAAAAAAAAABBBBBBBBBBBBBBBBBBBBBBBBBBBBBBBBBBBBBBBBBBBBBBBBBBBBBBBA\n",
      "RLE on orginal string length : 136\n",
      "RLE on BWT orginal string length  10\n"
     ]
    }
   ],
   "source": [
    "# Generating the string sequence\n",
    "alphabet = \"AB\"\n",
    "fib_word = generate_fibonacci_word(10,alphabet)\n",
    "\n",
    "# BWT of string sequence\n",
    "print (\"RLE on orginal string\")\n",
    "print (\"fib_word : \",fib_word)\n",
    "encoded_rle = encode_rle(fib_word)\n",
    "print (\"RLE of fibonacci_word : \", encoded_rle)\n",
    "print (\"decode of RLE of fibonacci_word : \", decode_rle(encoded_rle))\n",
    "print ()\n",
    "print (\"RLE on BWT string\")\n",
    "print (\"fib_word : \",fib_word)\n",
    "print (\"bwt fib_word\",bwt(fib_word))\n",
    "encoded_rle_bwt = encode_rle(bwt(fib_word))\n",
    "print (\"RLE of BWT fibonacci_word\",encoded_rle_bwt )\n",
    "dencoded_rle_bwt = decode_rle(encoded_rle_bwt)\n",
    "print (\"decode of RLE of BWT fibonacci_word\",dencoded_rle_bwt)\n",
    "print (\"decode of BWT of fibonacci_word\",ibwt(dencoded_rle_bwt))\n",
    "\n",
    "\n",
    "print (\"RLE on orginal string length :\",len(encoded_rle))\n",
    "print (\"RLE on BWT orginal string length \",len(encoded_rle_bwt))\n"
   ],
   "metadata": {
    "collapsed": false,
    "pycharm": {
     "name": "#%%\n"
    }
   }
  },
  {
   "cell_type": "markdown",
   "source": [
    "### Attempt to run BWT on the unique overlapping"
   ],
   "metadata": {
    "collapsed": false,
    "pycharm": {
     "name": "#%% md\n"
    }
   }
  },
  {
   "cell_type": "code",
   "execution_count": 107,
   "outputs": [
    {
     "data": {
      "text/plain": "<Figure size 800x600 with 1 Axes>",
      "image/png": "[encoded data removed]"
     },
     "metadata": {},
     "output_type": "display_data"
    }
   ],
   "source": [
    "import matplotlib.pyplot as plt\n",
    "\n",
    "# Test parameters\n",
    "m_values = [50, 100, 200, 400, 1000]\n",
    "min_m = min(m_values)\n",
    "d_values = range(0, min_m,10)\n",
    "\n",
    "\n",
    "# d_values = [1, 2, 4, 8, 16, 32, 64]\n",
    "# d_values = [0,10, 20, 30, 40, 50, 60]\n",
    "# m_values = range(50,1000,10)\n",
    "# m_values = [50, 100, 200, 400, 1000]\n",
    "\n",
    "\n",
    "alphabet = \"AB\"\n",
    "fib_word = generate_fibonacci_word(22,alphabet)\n",
    "\n",
    "results = {}\n",
    "word = fib_word\n",
    "\n",
    "for m in m_values:\n",
    "    for d in d_values:\n",
    "        subsequences = overlapping_subsequences(word, m, d)\n",
    "        bwt_subsequences = []\n",
    "\n",
    "        for subsequence in subsequences:\n",
    "            bwt_result = bwt(subsequence)\n",
    "            bwt_subsequences.append(bwt_result)\n",
    "\n",
    "        unique_phrases = set(bwt_subsequences)\n",
    "        num_phrases = len(unique_phrases)\n",
    "        results[(m, d)] = num_phrases\n",
    "\n",
    "# Visualize the results\n",
    "fig, ax = plt.subplots(figsize=(8, 6))\n",
    "\n",
    "fig.set_facecolor('white')\n",
    "ax.set_facecolor('white')\n",
    "\n",
    "for m in m_values:\n",
    "    x = []\n",
    "    for d in d_values:\n",
    "        x.append(d)\n",
    "\n",
    "    y = []\n",
    "    for d in d_values:\n",
    "        y.append(results[(m, d)])\n",
    "\n",
    "    label = \"m = {}\".format(m)\n",
    "    ax.plot(x, y, label=label)\n",
    "\n",
    "\n",
    "ax.set_yscale(\"log\")\n",
    "ax.set_title(\"Fibonacci word\")\n",
    "ax.set_xlabel(\"d\")\n",
    "ax.set_ylabel(\"Number of phrases (log scale)\")\n",
    "ax.legend()\n",
    "plt.show()\n"
   ],
   "metadata": {
    "collapsed": false,
    "pycharm": {
     "name": "#%%\n"
    }
   }
  },
  {
   "cell_type": "markdown",
   "source": [
    "X-axis: The d values, which represent the overlap between subsequences. A higher d value means more overlap between subsequences.\n",
    "\n",
    "Y-axis: The number of unique phrases (in log scale) generated by the BWT for the subsequences.\n",
    "\n",
    "Lines: Each line in the plot corresponds to a different m value, which represents the length of the subsequences. The legend shows the m values for each line.\n"
   ],
   "metadata": {
    "collapsed": false,
    "pycharm": {
     "name": "#%% md\n"
    }
   }
  }
 ],
 "metadata": {
  "kernelspec": {
   "display_name": "Python 3",
   "language": "python",
   "name": "python3"
  },
  "language_info": {
   "codemirror_mode": {
    "name": "ipython",
    "version": 2
   },
   "file_extension": ".py",
   "mimetype": "text/x-python",
   "name": "python",
   "nbconvert_exporter": "python",
   "pygments_lexer": "ipython2",
   "version": "2.7.6"
  }
 },
 "nbformat": 4,
 "nbformat_minor": 0
}